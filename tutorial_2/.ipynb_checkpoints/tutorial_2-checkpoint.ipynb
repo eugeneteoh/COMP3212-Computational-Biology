{
 "cells": [
  {
   "cell_type": "code",
   "execution_count": 1,
   "metadata": {},
   "outputs": [],
   "source": [
    "import numpy as np"
   ]
  },
  {
   "cell_type": "markdown",
   "metadata": {},
   "source": [
    "# Task 1\n",
    "- Write a program to implement Needleman-Wunsch for proteins\n",
    "- You will need the blosum50 scoring matrix\n",
    "- You can use any programming language\n",
    "- Run this on HEAGAWGHEE versus PAWHEAE\n",
    "- Compare this to page 23 in lecture 5\n",
    "- Match the protein sequence SALPQPTTPVSSFTSGSMLGRTDTALTNTYSAL with PSPTMEAVTSVEASTASHPHSTSSYFATTYYHLY"
   ]
  },
  {
   "cell_type": "code",
   "execution_count": 57,
   "metadata": {},
   "outputs": [],
   "source": [
    "# read blosum 50 matrix\n",
    "blosum50_matrix = np.loadtxt('./blosum50.txt')\n",
    "def blosumtodict(blosum50_matrix):\n",
    "    blosum50_dict = {}\n",
    "    string_list = 'ARNDCQEGHILKMFPSTWYV'\n",
    "    for i, ichar in enumerate(string_list):\n",
    "        for j, jchar in enumerate(string_list):\n",
    "            blosum50_dict[(ichar, jchar)] = blosum50_matrix[i, j]\n",
    "    return blosum50_dict\n",
    "blosum50 = blosumtodict(blosum50_matrix)"
   ]
  },
  {
   "cell_type": "code",
   "execution_count": 53,
   "metadata": {},
   "outputs": [],
   "source": [
    "def needleman_wunsch(string_a, string_b, d, s_dict):\n",
    "    F = np.zeros((len(string_a)+1, len(string_b)+1))\n",
    "    for i,j in np.ndindex(F.shape):\n",
    "        if i == 0:\n",
    "            F[0, j] = d * j\n",
    "        elif j == 0:\n",
    "            F[i, 0] = d * i\n",
    "        elif (i > 0 and j > 0):\n",
    "            match = F[i-1, j-1] + s_dict[(string_a[i-1], string_b[j-1])]\n",
    "            delete = F[i-1, j] + d\n",
    "            insert = F[i, j-1] + d\n",
    "            F[i, j] = max(match, delete, insert)\n",
    "    alignment_a = ''\n",
    "    alignment_b = ''\n",
    "    i = len(string_a)\n",
    "    j = len(string_b)\n",
    "    while (i > 0 or j > 0):\n",
    "        if (i > 0 and j > 0 and F[i, j] == F[i-1,j-1] + s_dict[(string_a[i-1], string_b[j-1])]):\n",
    "            alignment_a = string_a[i-1] + alignment_a\n",
    "            alignment_b = string_b[j-1] + alignment_b\n",
    "            i = i - 1\n",
    "            j = j - 1\n",
    "        elif (i > 0 and F[i, j] == F[i-1, j] + d):\n",
    "            alignment_a = string_a[i-1] + alignment_a\n",
    "            alignment_b = '-' + alignment_b\n",
    "            i = i - 1\n",
    "        else:\n",
    "            alignment_a = '-' + alignment_a\n",
    "            alignment_b = string_b[j-1] + alignment_b\n",
    "            j = j - 1\n",
    "            \n",
    "    return alignment_a, alignment_b"
   ]
  },
  {
   "cell_type": "code",
   "execution_count": 55,
   "metadata": {},
   "outputs": [
    {
     "data": {
      "text/plain": [
       "('HEAGAWGHE-E', '--P-AW-HEAE')"
      ]
     },
     "execution_count": 55,
     "metadata": {},
     "output_type": "execute_result"
    }
   ],
   "source": [
    "# HEAGAWGHEE vs PAWHEAE\n",
    "needleman_wunsch('HEAGAWGHEE', 'PAWHEAE', -8, blosum50)"
   ]
  },
  {
   "cell_type": "code",
   "execution_count": 56,
   "metadata": {},
   "outputs": [
    {
     "data": {
      "text/plain": [
       "('-SALPQPTTPVSSFTSGSMLGRTDTALTNTYSAL-', 'PSPTMEAVTSVEA-STASHPHSTSSYFATTYYHLY')"
      ]
     },
     "execution_count": 56,
     "metadata": {},
     "output_type": "execute_result"
    }
   ],
   "source": [
    "# SALPQPTTPVSSFTSGSMLGRTDTALTNTYSAL vs PSPTMEAVTSVEASTASHPHSTSSYFATTYYHLY\n",
    "needleman_wunsch('SALPQPTTPVSSFTSGSMLGRTDTALTNTYSAL', 'PSPTMEAVTSVEASTASHPHSTSSYFATTYYHLY', -8, blosum50)"
   ]
  }
 ],
 "metadata": {
  "kernelspec": {
   "display_name": "Python 3",
   "language": "python",
   "name": "python3"
  },
  "language_info": {
   "codemirror_mode": {
    "name": "ipython",
    "version": 3
   },
   "file_extension": ".py",
   "mimetype": "text/x-python",
   "name": "python",
   "nbconvert_exporter": "python",
   "pygments_lexer": "ipython3",
   "version": "3.7.6"
  }
 },
 "nbformat": 4,
 "nbformat_minor": 4
}
