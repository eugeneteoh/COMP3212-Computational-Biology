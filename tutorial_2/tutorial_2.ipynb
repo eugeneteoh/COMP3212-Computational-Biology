{
 "cells": [
  {
   "cell_type": "code",
   "execution_count": 347,
   "metadata": {},
   "outputs": [],
   "source": [
    "import numpy as np\n",
    "from hmmlearn import hmm"
   ]
  },
  {
   "cell_type": "markdown",
   "metadata": {},
   "source": [
    "# Task 1\n",
    "Write a program to implement Needleman-Wunsch for proteins\n",
    "- You will need the blosum50 scoring matrix\n",
    "- You can use any programming language\n",
    "- Run this on HEAGAWGHEE versus PAWHEAE\n",
    "- Compare this to page 23 in lecture 5\n",
    "- Match the protein sequence SALPQPTTPVSSFTSGSMLGRTDTALTNTYSAL with PSPTMEAVTSVEASTASHPHSTSSYFATTYYHLY"
   ]
  },
  {
   "cell_type": "code",
   "execution_count": 348,
   "metadata": {},
   "outputs": [],
   "source": [
    "# read blosum50 matrix\n",
    "blosum50_matrix = np.loadtxt('./blosum50.txt')\n",
    "def blosumtodict(blosum50_matrix):\n",
    "    blosum50_dict = {}\n",
    "    string_list = 'ARNDCQEGHILKMFPSTWYV'\n",
    "    for i, ichar in enumerate(string_list):\n",
    "        for j, jchar in enumerate(string_list):\n",
    "            blosum50_dict[(ichar, jchar)] = blosum50_matrix[i, j]\n",
    "    return blosum50_dict\n",
    "blosum50 = blosumtodict(blosum50_matrix)"
   ]
  },
  {
   "cell_type": "code",
   "execution_count": 349,
   "metadata": {},
   "outputs": [],
   "source": [
    "def needleman_wunsch(string_a, string_b, d, s_dict):\n",
    "    F = np.zeros((len(string_a)+1, len(string_b)+1))\n",
    "    for i,j in np.ndindex(F.shape):\n",
    "        if i == 0:\n",
    "            F[0, j] = d * j\n",
    "        elif j == 0:\n",
    "            F[i, 0] = d * i\n",
    "        elif (i > 0 and j > 0):\n",
    "            match = F[i-1, j-1] + s_dict[(string_a[i-1], string_b[j-1])]\n",
    "            delete = F[i-1, j] + d\n",
    "            insert = F[i, j-1] + d\n",
    "            F[i, j] = max(match, delete, insert)\n",
    "    alignment_a = ''\n",
    "    alignment_b = ''\n",
    "    i = len(string_a)\n",
    "    j = len(string_b)\n",
    "    while (i > 0 or j > 0):\n",
    "        if (i > 0 and j > 0 and F[i, j] == F[i-1,j-1] + s_dict[(string_a[i-1], string_b[j-1])]):\n",
    "            alignment_a = string_a[i-1] + alignment_a\n",
    "            alignment_b = string_b[j-1] + alignment_b\n",
    "            i = i - 1\n",
    "            j = j - 1\n",
    "        elif (i > 0 and F[i, j] == F[i-1, j] + d):\n",
    "            alignment_a = string_a[i-1] + alignment_a\n",
    "            alignment_b = '-' + alignment_b\n",
    "            i = i - 1\n",
    "        else:\n",
    "            alignment_a = '-' + alignment_a\n",
    "            alignment_b = string_b[j-1] + alignment_b\n",
    "            j = j - 1\n",
    "            \n",
    "    return alignment_a, alignment_b"
   ]
  },
  {
   "cell_type": "code",
   "execution_count": 350,
   "metadata": {},
   "outputs": [
    {
     "data": {
      "text/plain": [
       "('HEAGAWGHE-E', '--P-AW-HEAE')"
      ]
     },
     "execution_count": 350,
     "metadata": {},
     "output_type": "execute_result"
    }
   ],
   "source": [
    "# HEAGAWGHEE vs PAWHEAE\n",
    "needleman_wunsch('HEAGAWGHEE', 'PAWHEAE', -8, blosum50)"
   ]
  },
  {
   "cell_type": "code",
   "execution_count": 351,
   "metadata": {},
   "outputs": [
    {
     "data": {
      "text/plain": [
       "('-SALPQPTTPVSSFTSGSMLGRTDTALTNTYSAL-', 'PSPTMEAVTSVEA-STASHPHSTSSYFATTYYHLY')"
      ]
     },
     "execution_count": 351,
     "metadata": {},
     "output_type": "execute_result"
    }
   ],
   "source": [
    "# SALPQPTTPVSSFTSGSMLGRTDTALTNTYSAL vs PSPTMEAVTSVEASTASHPHSTSSYFATTYYHLY\n",
    "needleman_wunsch('SALPQPTTPVSSFTSGSMLGRTDTALTNTYSAL', 'PSPTMEAVTSVEASTASHPHSTSSYFATTYYHLY', -8, blosum50)"
   ]
  },
  {
   "cell_type": "markdown",
   "metadata": {},
   "source": [
    "# Task 2\n",
    "Modify your program to implement the Smith-Waterman algorithm\n",
    "- Again run this on HEAGAWGHEE versus PAWHEAE\n",
    "- Compare this to page 5 in lecture 6\n",
    "- Find the best local match between MQNSHSGVNQLGGVFVNGRPLPDSTRQKIVELAHSGARPCDISRILQVSNGCVSKILGRY and TDDECHSGVNQLGGVFVGGRPLPDSTRQKIVELAHSGARPCDISRI"
   ]
  },
  {
   "cell_type": "code",
   "execution_count": 352,
   "metadata": {},
   "outputs": [],
   "source": [
    "def smith_waterman(string_a, string_b, d, s_dict):\n",
    "    F = np.zeros((len(string_a)+1, len(string_b)+1))\n",
    "    for i,j in np.ndindex(F.shape):\n",
    "        if i == 0:\n",
    "            F[0, j] = 0\n",
    "        elif j == 0:\n",
    "            F[i, 0] = 0\n",
    "        elif (i > 0 and j > 0):\n",
    "            match = F[i-1, j-1] + s_dict[(string_a[i-1], string_b[j-1])]\n",
    "            delete = F[i-1, j] + d\n",
    "            insert = F[i, j-1] + d\n",
    "            F[i, j] = max(0, match, delete, insert)\n",
    "    alignment_a = ''\n",
    "    alignment_b = ''\n",
    "    i, j = np.unravel_index(F.argmax(), F.shape)\n",
    "    while (F[i, j] != 0):\n",
    "        if (i > 0 and j > 0 and F[i, j] == F[i-1,j-1] + s_dict[(string_a[i-1], string_b[j-1])]):\n",
    "            alignment_a = string_a[i-1] + alignment_a\n",
    "            alignment_b = string_b[j-1] + alignment_b\n",
    "            i = i - 1\n",
    "            j = j - 1\n",
    "        elif (i > 0 and F[i, j] == F[i-1, j] + d):\n",
    "            alignment_a = string_a[i-1] + alignment_a\n",
    "            alignment_b = '-' + alignment_b\n",
    "            i = i - 1\n",
    "        else:\n",
    "            alignment_a = '-' + alignment_a\n",
    "            alignment_b = string_b[j-1] + alignment_b\n",
    "            j = j - 1            \n",
    "    return alignment_a, alignment_b"
   ]
  },
  {
   "cell_type": "code",
   "execution_count": 353,
   "metadata": {},
   "outputs": [
    {
     "data": {
      "text/plain": [
       "('AWGHE', 'AW-HE')"
      ]
     },
     "execution_count": 353,
     "metadata": {},
     "output_type": "execute_result"
    }
   ],
   "source": [
    "# HEAGAWGHEE vs PAWHEAE\n",
    "smith_waterman('HEAGAWGHEE', 'PAWHEAE', -8, blosum50)"
   ]
  },
  {
   "cell_type": "code",
   "execution_count": 354,
   "metadata": {},
   "outputs": [
    {
     "data": {
      "text/plain": [
       "('HSGVNQLGGVFVNGRPLPDSTRQKIVELAHSGARPCDISRI',\n",
       " 'HSGVNQLGGVFVGGRPLPDSTRQKIVELAHSGARPCDISRI')"
      ]
     },
     "execution_count": 354,
     "metadata": {},
     "output_type": "execute_result"
    }
   ],
   "source": [
    "# MQNSHSGVNQLGGVFVNGRPLPDSTRQKIVELAHSGARPCDISRILQVSNGCVSKILGRY vs \n",
    "# TDDECHSGVNQLGGVFVGGRPLPDSTRQKIVELAHSGARPCDISRI\n",
    "smith_waterman('MQNSHSGVNQLGGVFVNGRPLPDSTRQKIVELAHSGARPCDISRILQVSNGCVSKILGRY', \n",
    "               'TDDECHSGVNQLGGVFVGGRPLPDSTRQKIVELAHSGARPCDISRI', -8, blosum50)"
   ]
  },
  {
   "attachments": {
    "image.png": {
     "image/png": "[encoded data removed]"
    }
   },
   "cell_type": "markdown",
   "metadata": {},
   "source": [
    "## Task 4\n",
    "Program the following HMM to generate CG rich regions\n",
    "![image.png](attachment:image.png)"
   ]
  },
  {
   "cell_type": "code",
   "execution_count": 364,
   "metadata": {},
   "outputs": [
    {
     "name": "stdout",
     "output_type": "stream",
     "text": [
      "(2,)\n",
      "(2, 2)\n",
      "(2, 4)\n"
     ]
    }
   ],
   "source": [
    "states = ('AT rich', 'CG rich')\n",
    "observations = ('A', 'T', 'C', 'G')\n",
    "start_probability = {'AT rich': 0.5, 'CG rich': 0.5}\n",
    "transition_probability = {\n",
    "    'AT rich' : {'AT rich': 0.9998, 'CG rich': 0.0002},\n",
    "    'CG rich' : {'AT rich': 0.0003, 'CG rich': 0.9997}\n",
    "}\n",
    "emission_probability = {\n",
    "    'AT rich' : {'A': 0.2698, 'T': 0.3237, 'C': 0.2080, 'G': 0.1985},\n",
    "    'CG rich' : {'A': 0.2459, 'T': 0.2079, 'C': 0.2478, 'G': 0.2984}\n",
    "}\n",
    "\n",
    "model = hmm.MultinomialHMM(n_components=2)\n",
    "model.startprob_ = np.array([0.5, 0.5])\n",
    "model.transmat_ = np.array([[0.9998, 0.0002],\n",
    "                           [0.0003, 0.9997]])\n",
    "model.emissionprob_ = np.array([[0.2698, 0.3237, 0.2080, 0.1985],\n",
    "                               [0.2459, 0.2079, 0.2478, 0.2984]])\n",
    "print(model.startprob_.shape)\n",
    "print(model.transmat_.shape)\n",
    "print(model.emissionprob_.shape)"
   ]
  },
  {
   "cell_type": "markdown",
   "metadata": {},
   "source": [
    "## Task 5\n",
    "Write a viterbi algorithm for finding the most likely CG regions and find a way of drawing this"
   ]
  },
  {
   "cell_type": "code",
   "execution_count": 413,
   "metadata": {},
   "outputs": [
    {
     "name": "stdout",
     "output_type": "stream",
     "text": [
      "[-3.57363874 -3.49141087]\n",
      "[1 1]\n",
      "[-4.70177687 -5.06240899]\n",
      "[0 0]\n",
      "[-6.27219409 -6.45784235]\n",
      "[0 0]\n",
      "[-7.88936029 -7.6674628 ]\n",
      "[1 1]\n",
      "[-9.01749843 -9.23846093]\n",
      "[0 0]\n",
      "[-10.58791565 -10.63389429]\n",
      "[0 0]\n",
      "[-12.20508185 -11.84351474]\n",
      "[1 1]\n",
      "[-13.5153562  -13.24664512]\n",
      "[1 1]\n",
      "[[ -2.26336438  -3.57363874  -4.70177687  -6.27219409  -7.88936029\n",
      "   -9.01749843 -10.58791565 -12.20508185 -13.5153562 ]\n",
      " [ -2.08828049  -3.49141087  -5.06240899  -6.45784235  -7.6674628\n",
      "   -9.23846093 -10.63389429 -11.84351474 -13.24664512]]\n",
      "[[0 1 0 0 1 0 0 1 1]\n",
      " [0 1 0 0 1 0 0 1 1]]\n"
     ]
    },
    {
     "data": {
      "text/plain": [
       "array(['CG', 'AT', 'AT', 'CG', 'AT', 'AT', 'CG', 'CG', 'CG'], dtype='<U2')"
      ]
     },
     "execution_count": 413,
     "metadata": {},
     "output_type": "execute_result"
    }
   ],
   "source": [
    "model = hmm.MultinomialHMM(n_components=2)\n",
    "model.startprob_ = np.array([0.5, 0.5])\n",
    "model.transmat_ = np.array([[0.9998, 0.0002],\n",
    "                           [0.0003, 0.9997]])\n",
    "model.emissionprob_ = np.array([[0.2698, 0.3237, 0.2080, 0.1985],\n",
    "                               [0.2459, 0.2079, 0.2478, 0.2984]])\n",
    "\n",
    "def logviterbi(sequence, model):\n",
    "    # Based on 'https://en.wikipedia.org/wiki/Viterbi_algorithm'\n",
    "    # integer assignments to nucleotide bases for easier index access\n",
    "    nucleotides_dict = {'A': 0, 'T': 1, 'C': 2, 'G': 3}\n",
    "    states_dict = {0: 'AT', 1: 'CG'}\n",
    "    # change all probability to log\n",
    "    model.startprob_ = np.log(model.startprob_)\n",
    "    model.transmat_ = np.log(model.transmat_)\n",
    "    model.emissionprob_ = np.log(model.emissionprob_)\n",
    "    \n",
    "    # number of states\n",
    "    K = model.n_components\n",
    "    # length of observation sequence\n",
    "    T = len(sequence)\n",
    "    \n",
    "    T1 = np.empty((K, T), 'd')\n",
    "    T2 = np.empty((K, T), 'B')\n",
    "    \n",
    "    # initial probabilities for first observation\n",
    "    T1[:, 0] = model.startprob_ + model.emissionprob_[:, nucleotides_dict[sequence[0]]]\n",
    "    T2[:, 0] = 0\n",
    "    \n",
    "    for i in range(1, T):\n",
    "        probability = T1[np.newaxis, :, i-1].T + model.transmat_\n",
    "        T1[:, i] = model.emissionprob_[:, nucleotides_dict[sequence[i]]] + np.max(probability, axis=1)\n",
    "        print(T1[:, i])\n",
    "        T2[:, i] = np.argmax(T1[:, i], axis=0)\n",
    "        print(T2[:, i])\n",
    "    \n",
    "    print(T1)\n",
    "    print(T2)\n",
    "    \n",
    "    # output sequence\n",
    "    z = np.empty(T, 'B')\n",
    "    x = np.empty(T, dtype='<U2')\n",
    "    z[-1] = np.argmax(T1[:, T-1])\n",
    "    x[-1] = states_dict[z[-1]]\n",
    "    for i in reversed(range(1, T)):\n",
    "        z[i-1] = T2[z[i], i]\n",
    "        x[i-1] = states_dict[z[i-1]]\n",
    "    \n",
    "    return x\n",
    "    \n",
    "logviterbi('CATCGTCGA', model)\n",
    "    "
   ]
  },
  {
   "cell_type": "markdown",
   "metadata": {},
   "source": [
    "## Task 6\n",
    "Run this on the genome for the phase lambda or here"
   ]
  }
 ],
 "metadata": {
  "kernelspec": {
   "display_name": "Python 3",
   "language": "python",
   "name": "python3"
  },
  "language_info": {
   "codemirror_mode": {
    "name": "ipython",
    "version": 3
   },
   "file_extension": ".py",
   "mimetype": "text/x-python",
   "name": "python",
   "nbconvert_exporter": "python",
   "pygments_lexer": "ipython3",
   "version": "3.7.6"
  }
 },
 "nbformat": 4,
 "nbformat_minor": 4
}
